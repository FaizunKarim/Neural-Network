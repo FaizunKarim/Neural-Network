{
 "cells": [
  {
   "cell_type": "code",
   "execution_count": 1,
   "id": "70e1e766-d35e-45e8-aca5-bc98d133fe89",
   "metadata": {},
   "outputs": [],
   "source": [
    "from mnist_loader import load_mnist_from_files\n",
    "from network import SimpleRNN"
   ]
  },
  {
   "cell_type": "code",
   "execution_count": 3,
   "id": "21d07b73-72b1-4ec6-b25e-68db7016efd7",
   "metadata": {},
   "outputs": [],
   "source": [
    "(x_train, y_train), (x_test, y_test) = load_mnist_from_files()\n",
    "x_train = x_train / 255.0\n",
    "x_test = x_test / 255.0\n",
    "\n",
    "training_data = zip(x_train, y_train)\n",
    "test_data = zip(x_test, y_test)"
   ]
  },
  {
   "cell_type": "code",
   "execution_count": 5,
   "id": "28ee4d25-b0a7-4d5a-9c3e-d1c9c78bc732",
   "metadata": {},
   "outputs": [],
   "source": [
    "net = SimpleRNN([28, 128, 10])"
   ]
  },
  {
   "cell_type": "code",
   "execution_count": 7,
   "id": "beaa321e-c332-4a09-a2bc-bddf5ddd9f0c",
   "metadata": {},
   "outputs": [
    {
     "name": "stdout",
     "output_type": "stream",
     "text": [
      "Epoch 0: 1135 / 10000\n",
      "Epoch 1: 1139 / 10000\n",
      "Epoch 2: 4472 / 10000\n",
      "Epoch 3: 5341 / 10000\n",
      "Epoch 4: 7619 / 10000\n",
      "Epoch 5: 8999 / 10000\n",
      "Epoch 6: 9294 / 10000\n",
      "Epoch 7: 9337 / 10000\n",
      "Epoch 8: 9387 / 10000\n",
      "Epoch 9: 9498 / 10000\n",
      "Epoch 10: 9523 / 10000\n",
      "Epoch 11: 9540 / 10000\n",
      "Epoch 12: 9637 / 10000\n",
      "Epoch 13: 9618 / 10000\n",
      "Epoch 14: 9540 / 10000\n",
      "Epoch 15: 9691 / 10000\n",
      "Epoch 16: 9622 / 10000\n",
      "Epoch 17: 9511 / 10000\n",
      "Epoch 18: 9655 / 10000\n",
      "Epoch 19: 9709 / 10000\n",
      "Epoch 20: 9622 / 10000\n",
      "Epoch 21: 9701 / 10000\n",
      "Epoch 22: 9633 / 10000\n",
      "Epoch 23: 9730 / 10000\n",
      "Epoch 24: 9507 / 10000\n",
      "Epoch 25: 9695 / 10000\n",
      "Epoch 26: 9692 / 10000\n",
      "Epoch 27: 9707 / 10000\n",
      "Epoch 28: 9564 / 10000\n",
      "Epoch 29: 9712 / 10000\n",
      "Epoch 30: 9656 / 10000\n",
      "Epoch 31: 9686 / 10000\n",
      "Epoch 32: 9683 / 10000\n",
      "Epoch 33: 9720 / 10000\n",
      "Epoch 34: 9592 / 10000\n",
      "Epoch 35: 9691 / 10000\n",
      "Epoch 36: 9718 / 10000\n",
      "Epoch 37: 9644 / 10000\n",
      "Epoch 38: 9728 / 10000\n",
      "Epoch 39: 9667 / 10000\n"
     ]
    }
   ],
   "source": [
    "net.train(training_data, epochs=40, mini_batch_size=10, eta=0.01, test_data=test_data)"
   ]
  },
  {
   "cell_type": "code",
   "execution_count": 9,
   "id": "f647cf45-fee5-4a37-bb2c-6e73fc6694cd",
   "metadata": {},
   "outputs": [],
   "source": [
    "net.save(\"rnn_model.pkl\")"
   ]
  },
  {
   "cell_type": "code",
   "execution_count": null,
   "id": "2ff70ca0-c2c2-4d41-87fa-a44a9e01996c",
   "metadata": {},
   "outputs": [],
   "source": []
  }
 ],
 "metadata": {
  "kernelspec": {
   "display_name": "Python 3 (ipykernel)",
   "language": "python",
   "name": "python3"
  },
  "language_info": {
   "codemirror_mode": {
    "name": "ipython",
    "version": 3
   },
   "file_extension": ".py",
   "mimetype": "text/x-python",
   "name": "python",
   "nbconvert_exporter": "python",
   "pygments_lexer": "ipython3",
   "version": "3.12.4"
  }
 },
 "nbformat": 4,
 "nbformat_minor": 5
}
